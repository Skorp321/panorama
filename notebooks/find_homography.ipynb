{
 "cells": [
  {
   "cell_type": "code",
   "execution_count": 1,
   "metadata": {},
   "outputs": [],
   "source": [
    "import os\n",
    "import cv2\n",
    "import pandas as pd\n",
    "import numpy as np\n",
    "from ultralytics import YOLO"
   ]
  },
  {
   "cell_type": "code",
   "execution_count": null,
   "metadata": {},
   "outputs": [],
   "source": [
    "config = {\n",
    "    'input_video_path': 'C:\\Users\\PotapovS\\Documents\\Data\\Demo\\Swiss_vs_slovakia-Panorama.mp4',\n",
    "    'input_layout_image': 'C:\\Users\\PotapovS\\Documents\\Projects\\panorama\\data\\test_10.png',\n",
    "    'output_base_dir': 'C:\\Users\\PotapovS\\Documents\\Projects\\panorama\\data',\n",
    "}"
   ]
  },
  {
   "cell_type": "code",
   "execution_count": 2,
   "metadata": {},
   "outputs": [],
   "source": [
    "img_path = '/home/skorp321/Projects/panorama/data/frame_001.jpg'"
   ]
  },
  {
   "cell_type": "code",
   "execution_count": 5,
   "metadata": {},
   "outputs": [
    {
     "name": "stdout",
     "output_type": "stream",
     "text": [
      "WARNING ⚠️ Unable to automatically guess model task, assuming 'task=detect'. Explicitly define task for your model, i.e. 'task=detect', 'segment', 'classify','pose' or 'obb'.\n",
      "YOLO()\n"
     ]
    }
   ],
   "source": [
    "res = YOLO(img_path, task='detect')\n",
    "\n",
    "print(res)"
   ]
  },
  {
   "cell_type": "code",
   "execution_count": 2,
   "metadata": {},
   "outputs": [],
   "source": [
    "class HomographySetup:\n",
    "    def __init__(self, config):\n",
    "        self.config = config\n",
    "        self.layout_img, self.first_frame = self.load_and_prepare_images()\n",
    "        self.points_layout = []\n",
    "        self.points_frame = []\n",
    "\n",
    "    def load_and_prepare_images(self):\n",
    "        layout_img = cv2.imread(self.config['input_layout_image'])\n",
    "        cap = cv2.VideoCapture(self.config['input_video_path'])\n",
    "        ret, frame = cap.read()\n",
    "        cap.release()\n",
    "\n",
    "        if not ret:\n",
    "            print(\"Error: Could not read the video frame.\")\n",
    "            return None, None\n",
    "\n",
    "        return layout_img, frame\n",
    "\n",
    "    def click_event(self, event, x, y, flags, params):\n",
    "        if event == cv2.EVENT_LBUTTONDOWN:\n",
    "            concatenated_img, max_width = params\n",
    "            if x < max_width:  # Clicked on the layout image\n",
    "                self.points_layout.append((x, y))\n",
    "            else:  # Clicked on the video frame\n",
    "                self.points_frame.append((x - max_width, y))\n",
    "            self.update_display(concatenated_img, max_width)\n",
    "\n",
    "    def update_display(self, concatenated_img, max_width):\n",
    "        concatenated_img[:, :] = np.concatenate((self.padded_layout_img, self.padded_first_frame), axis=1)\n",
    "        for pt_layout in self.points_layout:\n",
    "            cv2.circle(concatenated_img, pt_layout, 5, (255, 0, 0), -1)\n",
    "        for pt_frame in self.points_frame:\n",
    "            cv2.circle(concatenated_img, (pt_frame[0] + max_width, pt_frame[1]), 5, (0, 255, 0), -1)\n",
    "        for pt_layout, pt_frame in zip(self.points_layout, self.points_frame):\n",
    "            cv2.line(concatenated_img, pt_layout, (pt_frame[0] + max_width, pt_frame[1]), (0, 0, 255), 2)\n",
    "        cv2.imshow(\"Homography Points Selection\", concatenated_img)\n",
    "\n",
    "    def compute_homography_matrix(self):\n",
    "        if self.config['h_matrix_path'] and os.path.exists(self.config['h_matrix_path']):\n",
    "            return np.load(self.config['h_matrix_path'])\n",
    "\n",
    "        self.padded_layout_img, self.padded_first_frame, concatenated_img = self.prepare_images_for_display()\n",
    "        max_width = max(self.layout_img.shape[1], self.first_frame.shape[1])\n",
    "\n",
    "        cv2.namedWindow(\"Homography Points Selection\", cv2.WINDOW_NORMAL)\n",
    "        cv2.imshow(\"Homography Points Selection\", concatenated_img)\n",
    "        cv2.setMouseCallback(\"Homography Points Selection\", self.click_event, (concatenated_img, max_width))\n",
    "\n",
    "        print(\"Instructions:\")\n",
    "        print(\"- Click corresponding points on the layout image and the video frame.\")\n",
    "        print(\"- Press 'y' to confirm and calculate homography.\")\n",
    "        print(\"- Press 'Esc' to quit.\")\n",
    "        print(\"- Press 'r' to remove the last point match.\")\n",
    "\n",
    "        while True:\n",
    "            key = cv2.waitKey(1) & 0xFF\n",
    "            if key == 27:  # Esc key\n",
    "                cv2.destroyAllWindows()\n",
    "                return None  # Return early since homography cannot be computed\n",
    "            elif key == ord('y'):\n",
    "                if len(self.points_layout) >= 4 and len(self.points_frame) >= 4:\n",
    "                    H, _ = cv2.findHomography(np.array(self.points_frame), np.array(self.points_layout))\n",
    "                    if self.config['h_matrix_path']:\n",
    "                        np.save(self.config['h_matrix_path'], H)\n",
    "                    cv2.destroyAllWindows()\n",
    "                    return H\n",
    "                else:\n",
    "                    print(\"Not enough points to compute homography.\")\n",
    "                    cv2.destroyAllWindows()\n",
    "                    return None  # Return early since homography cannot be computed\n",
    "            elif key == ord('r') and self.points_layout and self.points_frame:  # Remove the last point match\n",
    "                self.points_layout.pop()\n",
    "                self.points_frame.pop()\n",
    "                self.update_display(concatenated_img, max_width)\n",
    "\n",
    "    def prepare_images_for_display(self):\n",
    "        max_height = max(self.layout_img.shape[0], self.first_frame.shape[0])\n",
    "        max_width = max(self.layout_img.shape[1], self.first_frame.shape[1])\n",
    "\n",
    "        padded_layout_img = cv2.copyMakeBorder(self.layout_img, 0, max_height - self.layout_img.shape[0], 0, max_width - self.layout_img.shape[1], cv2.BORDER_CONSTANT, value=[0, 0, 0])\n",
    "        padded_first_frame = cv2.copyMakeBorder(self.first_frame, 0, max_height - self.first_frame.shape[0], 0, max_width - self.first_frame.shape[1], cv2.BORDER_CONSTANT, value=[0, 0, 0])\n",
    "\n",
    "        concatenated_img = np.concatenate((padded_layout_img, padded_first_frame), axis=1)\n",
    "        return padded_layout_img, padded_first_frame, concatenated_img"
   ]
  },
  {
   "cell_type": "code",
   "execution_count": null,
   "metadata": {},
   "outputs": [],
   "source": [
    "homographer = HomographySetup(config)"
   ]
  }
 ],
 "metadata": {
  "kernelspec": {
   "display_name": ".sport_env",
   "language": "python",
   "name": "python3"
  },
  "language_info": {
   "codemirror_mode": {
    "name": "ipython",
    "version": 3
   },
   "file_extension": ".py",
   "mimetype": "text/x-python",
   "name": "python",
   "nbconvert_exporter": "python",
   "pygments_lexer": "ipython3",
   "version": "3.10.12"
  }
 },
 "nbformat": 4,
 "nbformat_minor": 2
}
