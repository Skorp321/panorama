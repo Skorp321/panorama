{
 "cells": [
  {
   "cell_type": "code",

   "execution_count": 11,

   "metadata": {},
   "outputs": [],
   "source": [
    "import pandas as pd\n",
    "import numpy as np"
   ]
  },
  {
   "cell_type": "code",

   "execution_count": 21,

   "metadata": {},
   "outputs": [],
   "source": [
    "file_path = 'test.txt'"
   ]
  },
  {
   "cell_type": "code",

   "execution_count": 22,
   "metadata": {},
   "outputs": [
    {
     "name": "stderr",
     "output_type": "stream",
     "text": [
      "/tmp/ipykernel_27504/2465166153.py:1: ParserWarning: Falling back to the 'python' engine because the 'c' engine does not support regex separators (separators > 1 char and different from '\\s+' are interpreted as regex); you can avoid this warning by specifying engine='python'.\n",
      "  df = pd.read_table(file_path, delimiter='  ')\n"
     ]
    },
    {
     "ename": "ValueError",
     "evalue": "Columns must be same length as key",
     "output_type": "error",
     "traceback": [
      "\u001b[0;31m---------------------------------------------------------------------------\u001b[0m",
      "\u001b[0;31mValueError\u001b[0m                                Traceback (most recent call last)",
      "\u001b[0;32m/tmp/ipykernel_27504/2465166153.py\u001b[0m in \u001b[0;36m?\u001b[0;34m()\u001b[0m\n\u001b[1;32m      1\u001b[0m \u001b[0mdf\u001b[0m \u001b[0;34m=\u001b[0m \u001b[0mpd\u001b[0m\u001b[0;34m.\u001b[0m\u001b[0mread_table\u001b[0m\u001b[0;34m(\u001b[0m\u001b[0mfile_path\u001b[0m\u001b[0;34m,\u001b[0m \u001b[0mdelimiter\u001b[0m\u001b[0;34m=\u001b[0m\u001b[0;34m'  '\u001b[0m\u001b[0;34m)\u001b[0m\u001b[0;34m\u001b[0m\u001b[0;34m\u001b[0m\u001b[0m\n\u001b[1;32m      2\u001b[0m \u001b[0;31m#print(df)\u001b[0m\u001b[0;34m\u001b[0m\u001b[0;34m\u001b[0m\u001b[0m\n\u001b[0;32m----> 3\u001b[0;31m \u001b[0mdf\u001b[0m\u001b[0;34m[\u001b[0m\u001b[0;34m[\u001b[0m\u001b[0;34m'id'\u001b[0m\u001b[0;34m]\u001b[0m\u001b[0;34m]\u001b[0m \u001b[0;34m=\u001b[0m \u001b[0mdf\u001b[0m\u001b[0;34m.\u001b[0m\u001b[0mloc\u001b[0m\u001b[0;34m[\u001b[0m\u001b[0mdf\u001b[0m\u001b[0;34m[\u001b[0m\u001b[0;34m'id'\u001b[0m\u001b[0;34m]\u001b[0m\u001b[0;34m.\u001b[0m\u001b[0misin\u001b[0m\u001b[0;34m(\u001b[0m\u001b[0;34m[\u001b[0m\u001b[0;36m24\u001b[0m\u001b[0;34m,\u001b[0m \u001b[0;36m2\u001b[0m\u001b[0;34m]\u001b[0m\u001b[0;34m)\u001b[0m\u001b[0;34m,\u001b[0m  \u001b[0;34m'id'\u001b[0m\u001b[0;34m]\u001b[0m \u001b[0;34m=\u001b[0m \u001b[0;34m[\u001b[0m\u001b[0;36m33\u001b[0m\u001b[0;34m,\u001b[0m\u001b[0;36m44\u001b[0m\u001b[0;34m]\u001b[0m\u001b[0;34m\u001b[0m\u001b[0;34m\u001b[0m\u001b[0m\n\u001b[0m\u001b[1;32m      4\u001b[0m \u001b[0mprint\u001b[0m\u001b[0;34m(\u001b[0m\u001b[0mdf\u001b[0m\u001b[0;34m)\u001b[0m\u001b[0;34m\u001b[0m\u001b[0;34m\u001b[0m\u001b[0m\n",
      "\u001b[0;32m~/Projects/panorama/.sport_env/lib/python3.10/site-packages/pandas/core/frame.py\u001b[0m in \u001b[0;36m?\u001b[0;34m(self, key, value)\u001b[0m\n\u001b[1;32m   4295\u001b[0m \u001b[0;34m\u001b[0m\u001b[0m\n\u001b[1;32m   4296\u001b[0m         \u001b[0;32mif\u001b[0m \u001b[0misinstance\u001b[0m\u001b[0;34m(\u001b[0m\u001b[0mkey\u001b[0m\u001b[0;34m,\u001b[0m \u001b[0mDataFrame\u001b[0m\u001b[0;34m)\u001b[0m \u001b[0;32mor\u001b[0m \u001b[0mgetattr\u001b[0m\u001b[0;34m(\u001b[0m\u001b[0mkey\u001b[0m\u001b[0;34m,\u001b[0m \u001b[0;34m\"ndim\"\u001b[0m\u001b[0;34m,\u001b[0m \u001b[0;32mNone\u001b[0m\u001b[0;34m)\u001b[0m \u001b[0;34m==\u001b[0m \u001b[0;36m2\u001b[0m\u001b[0;34m:\u001b[0m\u001b[0;34m\u001b[0m\u001b[0;34m\u001b[0m\u001b[0m\n\u001b[1;32m   4297\u001b[0m             \u001b[0mself\u001b[0m\u001b[0;34m.\u001b[0m\u001b[0m_setitem_frame\u001b[0m\u001b[0;34m(\u001b[0m\u001b[0mkey\u001b[0m\u001b[0;34m,\u001b[0m \u001b[0mvalue\u001b[0m\u001b[0;34m)\u001b[0m\u001b[0;34m\u001b[0m\u001b[0;34m\u001b[0m\u001b[0m\n\u001b[1;32m   4298\u001b[0m         \u001b[0;32melif\u001b[0m \u001b[0misinstance\u001b[0m\u001b[0;34m(\u001b[0m\u001b[0mkey\u001b[0m\u001b[0;34m,\u001b[0m \u001b[0;34m(\u001b[0m\u001b[0mSeries\u001b[0m\u001b[0;34m,\u001b[0m \u001b[0mnp\u001b[0m\u001b[0;34m.\u001b[0m\u001b[0mndarray\u001b[0m\u001b[0;34m,\u001b[0m \u001b[0mlist\u001b[0m\u001b[0;34m,\u001b[0m \u001b[0mIndex\u001b[0m\u001b[0;34m)\u001b[0m\u001b[0;34m)\u001b[0m\u001b[0;34m:\u001b[0m\u001b[0;34m\u001b[0m\u001b[0;34m\u001b[0m\u001b[0m\n\u001b[0;32m-> 4299\u001b[0;31m             \u001b[0mself\u001b[0m\u001b[0;34m.\u001b[0m\u001b[0m_setitem_array\u001b[0m\u001b[0;34m(\u001b[0m\u001b[0mkey\u001b[0m\u001b[0;34m,\u001b[0m \u001b[0mvalue\u001b[0m\u001b[0;34m)\u001b[0m\u001b[0;34m\u001b[0m\u001b[0;34m\u001b[0m\u001b[0m\n\u001b[0m\u001b[1;32m   4300\u001b[0m         \u001b[0;32melif\u001b[0m \u001b[0misinstance\u001b[0m\u001b[0;34m(\u001b[0m\u001b[0mvalue\u001b[0m\u001b[0;34m,\u001b[0m \u001b[0mDataFrame\u001b[0m\u001b[0;34m)\u001b[0m\u001b[0;34m:\u001b[0m\u001b[0;34m\u001b[0m\u001b[0;34m\u001b[0m\u001b[0m\n\u001b[1;32m   4301\u001b[0m             \u001b[0mself\u001b[0m\u001b[0;34m.\u001b[0m\u001b[0m_set_item_frame_value\u001b[0m\u001b[0;34m(\u001b[0m\u001b[0mkey\u001b[0m\u001b[0;34m,\u001b[0m \u001b[0mvalue\u001b[0m\u001b[0;34m)\u001b[0m\u001b[0;34m\u001b[0m\u001b[0;34m\u001b[0m\u001b[0m\n\u001b[1;32m   4302\u001b[0m         elif (\n",
      "\u001b[0;32m~/Projects/panorama/.sport_env/lib/python3.10/site-packages/pandas/core/frame.py\u001b[0m in \u001b[0;36m?\u001b[0;34m(self, key, value)\u001b[0m\n\u001b[1;32m   4354\u001b[0m                 \u001b[0mvalue\u001b[0m \u001b[0;34m=\u001b[0m \u001b[0mDataFrame\u001b[0m\u001b[0;34m(\u001b[0m\u001b[0mvalue\u001b[0m\u001b[0;34m)\u001b[0m\u001b[0;34m.\u001b[0m\u001b[0mvalues\u001b[0m\u001b[0;34m\u001b[0m\u001b[0;34m\u001b[0m\u001b[0m\n\u001b[1;32m   4355\u001b[0m                 \u001b[0;32mreturn\u001b[0m \u001b[0mself\u001b[0m\u001b[0;34m.\u001b[0m\u001b[0m_setitem_array\u001b[0m\u001b[0;34m(\u001b[0m\u001b[0mkey\u001b[0m\u001b[0;34m,\u001b[0m \u001b[0mvalue\u001b[0m\u001b[0;34m)\u001b[0m\u001b[0;34m\u001b[0m\u001b[0;34m\u001b[0m\u001b[0m\n\u001b[1;32m   4356\u001b[0m \u001b[0;34m\u001b[0m\u001b[0m\n\u001b[1;32m   4357\u001b[0m             \u001b[0;32melse\u001b[0m\u001b[0;34m:\u001b[0m\u001b[0;34m\u001b[0m\u001b[0;34m\u001b[0m\u001b[0m\n\u001b[0;32m-> 4358\u001b[0;31m                 \u001b[0mself\u001b[0m\u001b[0;34m.\u001b[0m\u001b[0m_iset_not_inplace\u001b[0m\u001b[0;34m(\u001b[0m\u001b[0mkey\u001b[0m\u001b[0;34m,\u001b[0m \u001b[0mvalue\u001b[0m\u001b[0;34m)\u001b[0m\u001b[0;34m\u001b[0m\u001b[0;34m\u001b[0m\u001b[0m\n\u001b[0m",
      "\u001b[0;32m~/Projects/panorama/.sport_env/lib/python3.10/site-packages/pandas/core/frame.py\u001b[0m in \u001b[0;36m?\u001b[0;34m(self, key, value)\u001b[0m\n\u001b[1;32m   4373\u001b[0m                 \u001b[0;32mreturn\u001b[0m \u001b[0mobj\u001b[0m\u001b[0;34m[\u001b[0m\u001b[0mi\u001b[0m\u001b[0;34m]\u001b[0m\u001b[0;34m\u001b[0m\u001b[0;34m\u001b[0m\u001b[0m\n\u001b[1;32m   4374\u001b[0m \u001b[0;34m\u001b[0m\u001b[0m\n\u001b[1;32m   4375\u001b[0m         \u001b[0;32mif\u001b[0m \u001b[0mself\u001b[0m\u001b[0;34m.\u001b[0m\u001b[0mcolumns\u001b[0m\u001b[0;34m.\u001b[0m\u001b[0mis_unique\u001b[0m\u001b[0;34m:\u001b[0m\u001b[0;34m\u001b[0m\u001b[0;34m\u001b[0m\u001b[0m\n\u001b[1;32m   4376\u001b[0m             \u001b[0;32mif\u001b[0m \u001b[0mnp\u001b[0m\u001b[0;34m.\u001b[0m\u001b[0mshape\u001b[0m\u001b[0;34m(\u001b[0m\u001b[0mvalue\u001b[0m\u001b[0;34m)\u001b[0m\u001b[0;34m[\u001b[0m\u001b[0;34m-\u001b[0m\u001b[0;36m1\u001b[0m\u001b[0;34m]\u001b[0m \u001b[0;34m!=\u001b[0m \u001b[0mlen\u001b[0m\u001b[0;34m(\u001b[0m\u001b[0mkey\u001b[0m\u001b[0;34m)\u001b[0m\u001b[0;34m:\u001b[0m\u001b[0;34m\u001b[0m\u001b[0;34m\u001b[0m\u001b[0m\n\u001b[0;32m-> 4377\u001b[0;31m                 \u001b[0;32mraise\u001b[0m \u001b[0mValueError\u001b[0m\u001b[0;34m(\u001b[0m\u001b[0;34m\"Columns must be same length as key\"\u001b[0m\u001b[0;34m)\u001b[0m\u001b[0;34m\u001b[0m\u001b[0;34m\u001b[0m\u001b[0m\n\u001b[0m\u001b[1;32m   4378\u001b[0m \u001b[0;34m\u001b[0m\u001b[0m\n\u001b[1;32m   4379\u001b[0m             \u001b[0;32mfor\u001b[0m \u001b[0mi\u001b[0m\u001b[0;34m,\u001b[0m \u001b[0mcol\u001b[0m \u001b[0;32min\u001b[0m \u001b[0menumerate\u001b[0m\u001b[0;34m(\u001b[0m\u001b[0mkey\u001b[0m\u001b[0;34m)\u001b[0m\u001b[0;34m:\u001b[0m\u001b[0;34m\u001b[0m\u001b[0;34m\u001b[0m\u001b[0m\n\u001b[1;32m   4380\u001b[0m                 \u001b[0mself\u001b[0m\u001b[0;34m[\u001b[0m\u001b[0mcol\u001b[0m\u001b[0;34m]\u001b[0m \u001b[0;34m=\u001b[0m \u001b[0migetitem\u001b[0m\u001b[0;34m(\u001b[0m\u001b[0mvalue\u001b[0m\u001b[0;34m,\u001b[0m \u001b[0mi\u001b[0m\u001b[0;34m)\u001b[0m\u001b[0;34m\u001b[0m\u001b[0;34m\u001b[0m\u001b[0m\n",
      "\u001b[0;31mValueError\u001b[0m: Columns must be same length as key"
     ]
    }
   ],
   "source": [
    "df = pd.read_table(file_path, delimiter='  ')\n",
    "#print(df)\n",
    "df[['id']] = df.loc[df['id'].isin([24, 2]),  'id'] = [33,44]\n",
    "print(df)"
   ]
  },
  {
   "cell_type": "code",
   "execution_count": 71,
   "metadata": {},
   "outputs": [
    {
     "name": "stdout",
     "output_type": "stream",
     "text": [
      "(2,)\n"
     ]
    }
   ],
   "source": [

    "df.loc[df['id'] == 24, 'id'] = 99\n",
    "df = df.sort_values(['x1', 'y1'], ascending=[True, True]).reset_index(drop=True)\n",
    "for _, d in df.iterrows():\n",
    "    x = d[['x_anchor', 'y_anchor']].values\n",
    "    print(x.shape)\n",
    "    break"
   ]
  },
  {
   "cell_type": "code",

   "execution_count": 62,

   "metadata": {},
   "outputs": [
    {
     "data": {

      "text/plain": [
       "6"
      ]
     },
     "execution_count": 62,

     "metadata": {},
     "output_type": "execute_result"
    }
   ],
   "source": [

    "df.loc[1,'id']"

   ]
  },
  {
   "cell_type": "code",
   "execution_count": 55,
   "metadata": {},
   "outputs": [
    {
     "name": "stdout",
     "output_type": "stream",
     "text": [
      "[[1 2]\n",
      " [3 4]\n",
      " [5 6]]\n",
      "[[5 6]\n",
      " [7 8]]\n",
      "coords1[1] -> coords2[1], расстояние: 5.656854249492381\n",
      "coords1[2] -> coords2[0], расстояние: 0.0\n",
      "Матрица расстояний:\n",
      "[[5.65685425 8.48528137]\n",
      " [2.82842712 5.65685425]\n",
      " [0.         2.82842712]]\n"
     ]
    }
   ],
   "source": [
    "import numpy as np\n",
    "from scipy.spatial.distance import cdist\n",
    "from scipy.optimize import linear_sum_assignment\n",
    "\n",
    "# Пример данных: два списка координат\n",
    "coords1 = np.array([[1, 2], [5, 6], [3, 4]])\n",
    "coords2 = np.array([[5, 6], [7, 8]])\n",
    "coords1 = coords1[coords1[:, 0].argsort()]\n",
    "coords2 = coords2[coords2[:, 0].argsort()]\n",
    "print(coords1)\n",
    "print(coords2)\n",
    "\n",
    "# Вычисление матрицы евклидовых расстояний\n",
    "distance_matrix = cdist(coords1, coords2, metric='euclidean')\n",
    "\n",
    "# Решение задачи сопоставления с минимальной стоимостью (расстоянием)\n",
    "row_ind, col_ind = linear_sum_assignment(distance_matrix)\n",
    "\n",
    "# Печать результатов сопоставления\n",
    "for i, j in zip(row_ind, col_ind):\n",
    "    print(f\"coords1[{i}] -> coords2[{j}], расстояние: {distance_matrix[i, j]}\")\n",
    "\n",
    "print(\"Матрица расстояний:\")\n",
    "print(distance_matrix)\n"
   ]
  },
  {
   "cell_type": "code",

   "execution_count": 74,

   "metadata": {},
   "outputs": [
    {
     "name": "stdout",
     "output_type": "stream",
     "text": [

      "{'cb': [413.07, 507.07], 'cp': [412.54, 259.73], 'ct': [413.18, 13.8], 'lcb': [34.04, 505.4], 'lct': [33.83, 13.55], 'lpb': [151.91, 403.07], 'lpt': [152.23, 114.22], 'rcb': [792.31, 507.19], 'rct': [792.31, 12.39], 'rpb': [674.23, 407.29], 'rpt': [672.84, 113.57]}\n",
      "{'cb': [1921.36, 595.31], 'cp': [1941.96, 212.3], 'ct': [1948.33, 108.58], 'lcb': [33.23, 598.67], 'lct': [1420.99, 107.97], 'lpb': [1085.1, 364.47], 'lpt': [1522.63, 140.11], 'rcb': [3823.49, 602.24], 'rct': [2474.79, 107.04], 'rpb': [2780.99, 363.28], 'rpt': [2368.52, 140.16]}\n",
      "{0: 'TLC', 1: 'TRC', 2: 'TR6MC', 3: 'TL6MC', 4: 'TR6ML', 5: 'TL6ML', 6: 'TR18MC', 7: 'TL18MC', 8: 'TR18ML', 9: 'TL18ML', 10: 'TRArc', 11: 'TLArc', 12: 'RML', 13: 'RMC', 14: 'LMC', 15: 'LML', 16: 'BLC', 17: 'BRC', 18: 'BR6MC', 19: 'BL6MC', 20: 'BR6ML', 21: 'BL6ML', 22: 'BR18MC', 23: 'BL18MC', 24: 'BR18ML', 25: 'BL18ML', 26: 'BRArc', 27: 'BLArc'}\n"

     ]
    }
   ],
   "source": [

    "import json\n",
    "from ultralytics import YOLO\n",
    "\n",
    "with open('/home/skorp321/Projects/panorama/data/soccer_field_anno/annotations/person_keypoints_default.json', 'r') as file:            \n",
    "    data = file.read()\n",
    "\n",
    "# Преобразование строки в словарь с помощью метода loads\n",
    "data_dict = json.loads(data)\n",
    "\n",
    "categoris = data_dict['categories'][0]['keypoints']\n",
    "df = data_dict['annotations'][0]['keypoints']\n",
    "\n",
    "res = {}\n",
    "for i, data in enumerate(categoris):\n",
    "    res[data] = df[(i*3):((i+1)*3)-1]\n",
    "    \n",
    "sorted_list = sorted(res.items(), key=lambda x: x[0])\n",
    "\n",
    "# Преобразуем список обратно в словарь\n",
    "sorted_dict = {k: v for k, v in sorted_list}\n",
    "print(sorted_dict)\n",
    "\n",
    "with open('/home/skorp321/Projects/panorama/data/Swiss_vs_Slovakia-panoramic_video_anno/annotations/person_keypoints_default.json', 'r') as file:            \n",
    "    data = file.read()\n",
    "\n",
    "# Преобразование строки в словарь с помощью метода loads\n",
    "data_dict = json.loads(data)\n",
    "\n",
    "categoris = data_dict['categories'][0]['keypoints']\n",
    "df = data_dict['annotations'][0]['keypoints']\n",
    "\n",
    "res = {}\n",
    "for i, data in enumerate(categoris):\n",
    "    res[data] = df[(i*3):((i+1)*3)-1]\n",
    "    \n",
    "sorted_list = sorted(res.items(), key=lambda x: x[0])\n",
    "\n",
    "# Преобразуем список обратно в словарь\n",
    "sorted_dict = {k: v for k, v in sorted_list}\n",
    "print(sorted_dict)\n",
    "\n",
    "model_keypoint = YOLO('/home/skorp321/Projects/panorama/models/yolov8m_keypoints.pt')\n",
    "print(model_keypoint.names)\n",

    "            "
   ]
  },
  {
   "cell_type": "code",

   "execution_count": 6,
   "metadata": {},
   "outputs": [
    {
     "name": "stdout",
     "output_type": "stream",
     "text": [
      "Filtered boxes after NMS:\n",
      "[220, 220, 320, 320, 0.92, 0]\n",
      "[220, 230, 315, 340, 0.9, 1]\n",
      "[100, 100, 210, 210, 0.72, 0]\n",
      "[100, 100, 210, 210, 0.72, 1]\n"
     ]
    }
   ],
   "source": [
    "import numpy as np\n",
    "\n",
    "def iou(box1, box2):\n",
    "    \"\"\"\n",
    "    Compute the Intersection Over Union (IoU) of two bounding boxes.\n",
    "\n",
    "    Parameters\n",
    "    ----------\n",
    "    box1 : ndarray\n",
    "        (x1, y1, x2, y2) of the first box.\n",
    "    box2 : ndarray\n",
    "        (x1, y1, x2, y2) of the second box.\n",
    "\n",
    "    Returns\n",
    "    -------\n",
    "    float\n",
    "        in [0, 1]\n",
    "    \"\"\"\n",
    "    x1 = max(box1[0], box2[0])\n",
    "    y1 = max(box1[1], box2[1])\n",
    "    x2 = min(box1[2], box2[2])\n",
    "    y2 = min(box1[3], box2[3])\n",
    "\n",
    "    inter_area = max(0, x2 - x1) * max(0, y2 - y1)\n",
    "\n",
    "    box1_area = (box1[2] - box1[0]) * (box1[3] - box1[1])\n",
    "    box2_area = (box2[2] - box2[0]) * (box2[3] - box2[1])\n",
    "\n",
    "    union_area = box1_area + box2_area - inter_area\n",
    "\n",
    "    return inter_area / union_area if union_area != 0 else 0\n",
    "\n",
    "def non_max_suppression(boxes, iou_threshold):\n",
    "    \"\"\"\n",
    "    Perform non-maximum suppression, given a list of boxes with their\n",
    "    corresponding scores and class labels.\n",
    "\n",
    "    Parameters\n",
    "    ----------\n",
    "    boxes : list of lists or 2D ndarray\n",
    "        List with elements [x1, y1, x2, y2, score, class_label].\n",
    "    iou_threshold : float\n",
    "        Threshold for IoU to determine whether boxes overlap too much.\n",
    "\n",
    "    Returns\n",
    "    -------\n",
    "    list of lists\n",
    "        Filtered boxes after NMS.\n",
    "    \"\"\"\n",
    "    if len(boxes) == 0:\n",
    "        return []\n",
    "\n",
    "    # Sort the boxes by score in descending order\n",
    "    boxes = sorted(boxes, key=lambda x: x[4], reverse=True)\n",
    "    picked_boxes = []\n",
    "\n",
    "    while boxes:\n",
    "        # Pick the box with the highest score\n",
    "        current_box = boxes.pop(0)\n",
    "        picked_boxes.append(current_box)\n",
    "\n",
    "        # Compare the picked box with the rest of the boxes\n",
    "        boxes = [box for box in boxes if box[5] != current_box[5] or iou(current_box, box) <= iou_threshold]\n",
    "\n",
    "    return picked_boxes\n",
    "\n",
    "# Example usage:\n",
    "boxes = [\n",
    "    [100, 100, 210, 210, 0.72, 0],  # x1, y1, x2, y2, score, class_label\n",
    "    [250, 250, 420, 420, 0.8, 0],\n",
    "    [220, 220, 320, 320, 0.92, 0],\n",
    "    [100, 100, 210, 210, 0.72, 1],\n",
    "    [230, 240, 325, 330, 0.81, 1],\n",
    "    [220, 230, 315, 340, 0.9, 1]\n",
    "]\n",
    "\n",
    "filtered_boxes = non_max_suppression(boxes, iou_threshold=0.1)\n",
    "print(\"Filtered boxes after NMS:\")\n",
    "for box in filtered_boxes:\n",
    "    print(box)"
   ]

  }
 ],
 "metadata": {
  "kernelspec": {
   "display_name": ".sport_env",
   "language": "python",
   "name": "python3"
  },
  "language_info": {
   "codemirror_mode": {
    "name": "ipython",
    "version": 3
   },
   "file_extension": ".py",
   "mimetype": "text/x-python",
   "name": "python",
   "nbconvert_exporter": "python",
   "pygments_lexer": "ipython3",
   "version": "3.10.12"
  }
 },
 "nbformat": 4,
 "nbformat_minor": 2
}
