{
   "cells": [
      {
         "cell_type": "code",
         "execution_count": 2,
         "metadata": {},
         "outputs": [],
         "source": [
            "import pandas as pd\n",
            "import numpy as np\n",
            "import json\n",
            "from ultralytics import YOLO\n",
            "import cv2"
         ]
      },
      {
         "cell_type": "code",
         "execution_count": 3,
         "metadata": {},
         "outputs": [],
         "source": [
            "file_path = 'C:\\\\Users\\\\PotapovS\\\\Documents\\\\Projects\\\\panorama\\\\data\\\\cvat\\\\Panoramic_video_football\\\\annotations\\\\person_keypoints_default.json'\n",
            "img_path = 'C:\\\\Users\\\\PotapovS\\\\Documents\\\\Projects\\\\panorama\\\\data\\\\img1.jpg'"
         ]
      },
      {
         "cell_type": "code",
         "execution_count": 6,
         "metadata": {},
         "outputs": [
            {
               "name": "stdout",
               "output_type": "stream",
               "text": [
                  "\n",
                  "image 1/1 C:\\Users\\PotapovS\\Documents\\Projects\\panorama\\data\\img1.jpg: 224x1280 1 field, 925.9ms\n",
                  "Speed: 2.0ms preprocess, 925.9ms inference, 0.0ms postprocess per image at shape (1, 3, 224, 1280)\n"
               ]
            }
         ],
         "source": [
            "model =  YOLO('C:\\\\Users\\\\PotapovS\\\\Documents\\\\Projects\\\\panorama\\\\models\\\\yolov8m_keypoints.pt')\n",
            "\n",
            "res = model(img_path, imgsz=1280)\n",
            "\n",
            "keypoints = res[0].keypoints.data[0].cpu().numpy()"
         ]
      },
      {
         "cell_type": "code",
         "execution_count": 7,
         "metadata": {},
         "outputs": [],
         "source": [
            "with open(file_path) as f:\n",
            "    keypoints_map_pos = json.load(f)\n",
            "\n",
            "names = keypoints_map_pos['categories'][0]['keypoints']"
         ]
      },
      {
         "cell_type": "code",
         "execution_count": 1,
         "metadata": {},
         "outputs": [
            {
               "ename": "NameError",
               "evalue": "name 'pd' is not defined",
               "output_type": "error",
               "traceback": [
                  "\u001b[1;31m---------------------------------------------------------------------------\u001b[0m",
                  "\u001b[1;31mNameError\u001b[0m                                 Traceback (most recent call last)",
                  "Cell \u001b[1;32mIn[1], line 1\u001b[0m\n\u001b[1;32m----> 1\u001b[0m df \u001b[38;5;241m=\u001b[39m \u001b[43mpd\u001b[49m\u001b[38;5;241m.\u001b[39mDataFrame(keypoints, index\u001b[38;5;241m=\u001b[39mnames, columns\u001b[38;5;241m=\u001b[39m[\u001b[38;5;124m'\u001b[39m\u001b[38;5;124mx\u001b[39m\u001b[38;5;124m'\u001b[39m, \u001b[38;5;124m'\u001b[39m\u001b[38;5;124my\u001b[39m\u001b[38;5;124m'\u001b[39m, \u001b[38;5;124m'\u001b[39m\u001b[38;5;124mconf\u001b[39m\u001b[38;5;124m'\u001b[39m])\n\u001b[0;32m      2\u001b[0m \u001b[38;5;28mprint\u001b[39m(df)\n",
                  "\u001b[1;31mNameError\u001b[0m: name 'pd' is not defined"
               ]
            }
         ],
         "source": [
            "df = pd.DataFrame(keypoints, index=names, columns=['x', 'y', 'conf'])\n",
            "print(df)"
         ]
      },
      {
         "cell_type": "code",
         "execution_count": 10,
         "metadata": {},
         "outputs": [
            {
               "name": "stdout",
               "output_type": "stream",
               "text": [
                  "1478 299\n",
                  "1423 109\n",
                  "680 365\n",
                  "1333 134\n",
                  "961 266\n",
                  "1237 170\n",
                  "1071 266\n",
                  "1308 170\n",
                  "1074 362\n",
                  "1528 138\n",
                  "1302 248\n",
                  "1438 180\n",
                  "1936 597\n",
                  "1960 110\n",
                  "1945 266\n",
                  "1952 174\n",
                  "2588 253\n",
                  "2457 179\n",
                  "2785 361\n",
                  "2377 138\n",
                  "2813 261\n",
                  "2590 168\n",
                  "2916 259\n",
                  "2694 146\n",
                  "3198 368\n",
                  "2669 172\n",
                  "3499 564\n",
                  "2475 104\n"
               ]
            },
            {
               "ename": "",
               "evalue": "",
               "output_type": "error",
               "traceback": [
                  "\u001b[1;31mThe Kernel crashed while executing code in the current cell or a previous cell. \n",
                  "\u001b[1;31mPlease review the code in the cell(s) to identify a possible cause of the failure. \n",
                  "\u001b[1;31mClick <a href='https://aka.ms/vscodeJupyterKernelCrash'>here</a> for more info. \n",
                  "\u001b[1;31mView Jupyter <a href='command:jupyter.viewOutput'>log</a> for further details."
               ]
            }
         ],
         "source": [
            "img = cv2.imread(img_path)\n",
            "for _, item in df.iterrows():\n",
            "    x, y, _ = item.astype(int).to_numpy()\n",
            "    print(x, y)\n",
            "    cv2.circle(img, (x, y), 6, (0, 0, 255), -1)\n",
            "cv2.imshow('image',img)\n"
         ]
      },
      {
         "cell_type": "code",
         "execution_count": 71,
         "metadata": {},
         "outputs": [
            {
               "name": "stdout",
               "output_type": "stream",
               "text": [
                  "(2,)\n"
               ]
            }
         ],
         "source": [
            "df.loc[df['id'] == 24, 'id'] = 99\n",
            "df = df.sort_values(['x1', 'y1'], ascending=[True, True]).reset_index(drop=True)\n",
            "for _, d in df.iterrows():\n",
            "    x = d[['x_anchor', 'y_anchor']].values\n",
            "    print(x.shape)\n",
            "    break"
         ]
      },
      {
         "cell_type": "code",
         "execution_count": 28,
         "metadata": {},
         "outputs": [
            {
               "data": {
                  "text/plain": [
                     "234"
                  ]
               },
               "execution_count": 28,
               "metadata": {},
               "output_type": "execute_result"
            }
         ],
         "source": [
            "d = {1:123, 2:234}\n",
            "d[2]"
         ]
      },
      {
         "cell_type": "code",
         "execution_count": 55,
         "metadata": {},
         "outputs": [
            {
               "name": "stdout",
               "output_type": "stream",
               "text": [
                  "[[1 2]\n",
                  " [3 4]\n",
                  " [5 6]]\n",
                  "[[5 6]\n",
                  " [7 8]]\n",
                  "coords1[1] -> coords2[1], расстояние: 5.656854249492381\n",
                  "coords1[2] -> coords2[0], расстояние: 0.0\n",
                  "Матрица расстояний:\n",
                  "[[5.65685425 8.48528137]\n",
                  " [2.82842712 5.65685425]\n",
                  " [0.         2.82842712]]\n"
               ]
            }
         ],
         "source": [
            "import numpy as np\n",
            "from scipy.spatial.distance import cdist\n",
            "from scipy.optimize import linear_sum_assignment\n",
            "\n",
            "# Пример данных: два списка координат\n",
            "coords1 = np.array([[1, 2], [5, 6], [3, 4]])\n",
            "coords2 = np.array([[5, 6], [7, 8]])\n",
            "coords1 = coords1[coords1[:, 0].argsort()]\n",
            "coords2 = coords2[coords2[:, 0].argsort()]\n",
            "print(coords1)\n",
            "print(coords2)\n",
            "\n",
            "# Вычисление матрицы евклидовых расстояний\n",
            "distance_matrix = cdist(coords1, coords2, metric='euclidean')\n",
            "\n",
            "# Решение задачи сопоставления с минимальной стоимостью (расстоянием)\n",
            "row_ind, col_ind = linear_sum_assignment(distance_matrix)\n",
            "\n",
            "# Печать результатов сопоставления\n",
            "for i, j in zip(row_ind, col_ind):\n",
            "    print(f\"coords1[{i}] -> coords2[{j}], расстояние: {distance_matrix[i, j]}\")\n",
            "\n",
            "print(\"Матрица расстояний:\")\n",
            "print(distance_matrix)\n"
         ]
      },
      {
         "cell_type": "code",
         "execution_count": 74,
         "metadata": {},
         "outputs": [
            {
               "name": "stdout",
               "output_type": "stream",
               "text": [
                  "{'cb': [413.07, 507.07], 'cp': [412.54, 259.73], 'ct': [413.18, 13.8], 'lcb': [34.04, 505.4], 'lct': [33.83, 13.55], 'lpb': [151.91, 403.07], 'lpt': [152.23, 114.22], 'rcb': [792.31, 507.19], 'rct': [792.31, 12.39], 'rpb': [674.23, 407.29], 'rpt': [672.84, 113.57]}\n",
                  "{'cb': [1921.36, 595.31], 'cp': [1941.96, 212.3], 'ct': [1948.33, 108.58], 'lcb': [33.23, 598.67], 'lct': [1420.99, 107.97], 'lpb': [1085.1, 364.47], 'lpt': [1522.63, 140.11], 'rcb': [3823.49, 602.24], 'rct': [2474.79, 107.04], 'rpb': [2780.99, 363.28], 'rpt': [2368.52, 140.16]}\n",
                  "{0: 'TLC', 1: 'TRC', 2: 'TR6MC', 3: 'TL6MC', 4: 'TR6ML', 5: 'TL6ML', 6: 'TR18MC', 7: 'TL18MC', 8: 'TR18ML', 9: 'TL18ML', 10: 'TRArc', 11: 'TLArc', 12: 'RML', 13: 'RMC', 14: 'LMC', 15: 'LML', 16: 'BLC', 17: 'BRC', 18: 'BR6MC', 19: 'BL6MC', 20: 'BR6ML', 21: 'BL6ML', 22: 'BR18MC', 23: 'BL18MC', 24: 'BR18ML', 25: 'BL18ML', 26: 'BRArc', 27: 'BLArc'}\n"
               ]
            }
         ],
         "source": [
            "import json\n",
            "from ultralytics import YOLO\n",
            "\n",
            "with open('/home/skorp321/Projects/panorama/data/soccer_field_anno/annotations/person_keypoints_default.json', 'r') as file:            \n",
            "    data = file.read()\n",
            "\n",
            "# Преобразование строки в словарь с помощью метода loads\n",
            "data_dict = json.loads(data)\n",
            "\n",
            "categoris = data_dict['categories'][0]['keypoints']\n",
            "df = data_dict['annotations'][0]['keypoints']\n",
            "\n",
            "res = {}\n",
            "for i, data in enumerate(categoris):\n",
            "    res[data] = df[(i*3):((i+1)*3)-1]\n",
            "    \n",
            "sorted_list = sorted(res.items(), key=lambda x: x[0])\n",
            "\n",
            "# Преобразуем список обратно в словарь\n",
            "sorted_dict = {k: v for k, v in sorted_list}\n",
            "print(sorted_dict)\n",
            "\n",
            "with open('/home/skorp321/Projects/panorama/data/Swiss_vs_Slovakia-panoramic_video_anno/annotations/person_keypoints_default.json', 'r') as file:            \n",
            "    data = file.read()\n",
            "\n",
            "# Преобразование строки в словарь с помощью метода loads\n",
            "data_dict = json.loads(data)\n",
            "\n",
            "categoris = data_dict['categories'][0]['keypoints']\n",
            "df = data_dict['annotations'][0]['keypoints']\n",
            "\n",
            "res = {}\n",
            "for i, data in enumerate(categoris):\n",
            "    res[data] = df[(i*3):((i+1)*3)-1]\n",
            "    \n",
            "sorted_list = sorted(res.items(), key=lambda x: x[0])\n",
            "\n",
            "# Преобразуем список обратно в словарь\n",
            "sorted_dict = {k: v for k, v in sorted_list}\n",
            "print(sorted_dict)\n",
            "\n",
            "model_keypoint = YOLO('/home/skorp321/Projects/panorama/models/yolov8m_keypoints.pt')\n",
            "print(model_keypoint.names)\n",
            "            "
         ]
      },
      {
         "cell_type": "code",
         "execution_count": 6,
         "metadata": {},
         "outputs": [
            {
               "name": "stdout",
               "output_type": "stream",
               "text": [
                  "Filtered boxes after NMS:\n",
                  "[220, 220, 320, 320, 0.92, 0]\n",
                  "[220, 230, 315, 340, 0.9, 1]\n",
                  "[100, 100, 210, 210, 0.72, 0]\n",
                  "[100, 100, 210, 210, 0.72, 1]\n"
               ]
            }
         ],
         "source": [
            "import numpy as np\n",
            "\n",
            "def iou(box1, box2):\n",
            "    \"\"\"\n",
            "    Compute the Intersection Over Union (IoU) of two bounding boxes.\n",
            "\n",
            "    Parameters\n",
            "    ----------\n",
            "    box1 : ndarray\n",
            "        (x1, y1, x2, y2) of the first box.\n",
            "    box2 : ndarray\n",
            "        (x1, y1, x2, y2) of the second box.\n",
            "\n",
            "    Returns\n",
            "    -------\n",
            "    float\n",
            "        in [0, 1]\n",
            "    \"\"\"\n",
            "    x1 = max(box1[0], box2[0])\n",
            "    y1 = max(box1[1], box2[1])\n",
            "    x2 = min(box1[2], box2[2])\n",
            "    y2 = min(box1[3], box2[3])\n",
            "\n",
            "    inter_area = max(0, x2 - x1) * max(0, y2 - y1)\n",
            "\n",
            "    box1_area = (box1[2] - box1[0]) * (box1[3] - box1[1])\n",
            "    box2_area = (box2[2] - box2[0]) * (box2[3] - box2[1])\n",
            "\n",
            "    union_area = box1_area + box2_area - inter_area\n",
            "\n",
            "    return inter_area / union_area if union_area != 0 else 0\n",
            "\n",
            "def non_max_suppression(boxes, iou_threshold):\n",
            "    \"\"\"\n",
            "    Perform non-maximum suppression, given a list of boxes with their\n",
            "    corresponding scores and class labels.\n",
            "\n",
            "    Parameters\n",
            "    ----------\n",
            "    boxes : list of lists or 2D ndarray\n",
            "        List with elements [x1, y1, x2, y2, score, class_label].\n",
            "    iou_threshold : float\n",
            "        Threshold for IoU to determine whether boxes overlap too much.\n",
            "\n",
            "    Returns\n",
            "    -------\n",
            "    list of lists\n",
            "        Filtered boxes after NMS.\n",
            "    \"\"\"\n",
            "    if len(boxes) == 0:\n",
            "        return []\n",
            "\n",
            "    # Sort the boxes by score in descending order\n",
            "    boxes = sorted(boxes, key=lambda x: x[4], reverse=True)\n",
            "    picked_boxes = []\n",
            "\n",
            "    while boxes:\n",
            "        # Pick the box with the highest score\n",
            "        current_box = boxes.pop(0)\n",
            "        picked_boxes.append(current_box)\n",
            "\n",
            "        # Compare the picked box with the rest of the boxes\n",
            "        boxes = [box for box in boxes if box[5] != current_box[5] or iou(current_box, box) <= iou_threshold]\n",
            "\n",
            "    return picked_boxes\n",
            "\n",
            "# Example usage:\n",
            "boxes = [\n",
            "    [100, 100, 210, 210, 0.72, 0],  # x1, y1, x2, y2, score, class_label\n",
            "    [250, 250, 420, 420, 0.8, 0],\n",
            "    [220, 220, 320, 320, 0.92, 0],\n",
            "    [100, 100, 210, 210, 0.72, 1],\n",
            "    [230, 240, 325, 330, 0.81, 1],\n",
            "    [220, 230, 315, 340, 0.9, 1]\n",
            "]\n",
            "\n",
            "filtered_boxes = non_max_suppression(boxes, iou_threshold=0.1)\n",
            "print(\"Filtered boxes after NMS:\")\n",
            "for box in filtered_boxes:\n",
            "    print(box)"
         ]
      }
   ],
   "metadata": {
      "kernelspec": {
         "display_name": ".sport_env",
         "language": "python",
         "name": "python3"
      },
      "language_info": {
         "codemirror_mode": {
            "name": "ipython",
            "version": 3
         },
         "file_extension": ".py",
         "mimetype": "text/x-python",
         "name": "python",
         "nbconvert_exporter": "python",
         "pygments_lexer": "ipython3",
         "version": "3.12.3"
      }
   },
   "nbformat": 4,
   "nbformat_minor": 2
}
