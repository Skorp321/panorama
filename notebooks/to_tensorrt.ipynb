{
 "cells": [
  {
   "cell_type": "code",
   "execution_count": null,
   "metadata": {},
   "outputs": [],
   "source": [
    "import torch\n",
    "import torch_tensorrt\n",
    "from torchreid.utils.feature_extractor import FeatureExtractor\n",
    "\n",
    "model_reid = FeatureExtractor(model_name='osnet_x1_0', model_path='models/osnet_ain_x1_0_triplet_custom.pt', device=0)\n",
    "model = model_reid.model\n",
    "\n",
    "model.eval()\n",
    "model.cuda()\n",
    "\n",
    "min_batch_size = 1\n",
    "max_bach_size = 23\n",
    "example_input = torch.randn(max_bach_size, 3, 256, 128).cuda()\n",
    "\n",
    "trt_model = torch_tensorrt.compile(\n",
    "    model,\n",
    "    inputs=[torch_tensorrt.Input(\n",
    "        (min_batch_size, 3, 256,128),\n",
    "        min_shape=(min_batch_size, 3, 256,128),\n",
    "        opt_shape=(max_bach_size,3 256, 128),\n",
    "        max_shape=(max_bach_size,3 256, 128),\n",
    "        dtype=torch.float32\n",
    "    )],\n",
    "    enable_precision={torch.float32}\n",
    ")\n",
    "\n",
    "test_batch = torch.randn(10, 3, 256, 128)\n",
    "\n",
    "with torch.no_grad():\n",
    "    output = trt_model(test_batch)\n",
    "\n",
    "print(output)"
   ]
  }
 ],
 "metadata": {
  "language_info": {
   "name": "python"
  }
 },
 "nbformat": 4,
 "nbformat_minor": 2
}
