{
 "cells": [
  {
   "cell_type": "code",
   "execution_count": 5,
   "metadata": {
    "metadata": {}
   },
   "outputs": [],
   "source": [
    "import cv2\n",
    "import ffmpegcv\n",
    "from tqdm.auto import tqdm\n",
    "from ultralytics import YOLO"
   ]
  },
  {
   "cell_type": "code",
   "execution_count": 2,
   "metadata": {
    "metadata": {}
   },
   "outputs": [],
   "source": [
    "VIDEO_PATH = '/home/skorp321/Projects/panorama/data/Swiss_vs_slovakia-Panorama.mp4'\n",
    "MODEL_PATH = '/home/skorp321/Projects/panorama/models/yolov8m_keypoints.pt'"
   ]
  },
  {
   "cell_type": "code",
   "execution_count": null,
   "metadata": {},
   "outputs": [],
   "source": [
    "model = YOLO(MODEL_PATH)"
   ]
  },
  {
   "cell_type": "code",
   "execution_count": null,
   "metadata": {},
   "outputs": [],
   "source": [
    "cap = ffmpegcv.VideoCaptureNV(VIDEO_PATH)\n",
    "\n",
    "for frame in tqdm(cap):\n",
    "    outputs = model(frame, save=True)"
   ]
  }
 ],
 "metadata": {
  "kernelspec": {
   "display_name": ".sport_env",
   "language": "python",
   "name": "python3"
  },
  "language_info": {
   "codemirror_mode": {
    "name": "ipython",
    "version": 3
   },
   "file_extension": ".py",
   "mimetype": "text/x-python",
   "name": "python",
   "nbconvert_exporter": "python",
   "pygments_lexer": "ipython3",
   "version": "3.10.12"
  }
 },
 "nbformat": 4,
 "nbformat_minor": 2
}
